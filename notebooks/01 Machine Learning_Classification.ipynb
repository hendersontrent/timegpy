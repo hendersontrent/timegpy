{
 "cells": [
  {
   "cell_type": "markdown",
   "id": "03b5ec67",
   "metadata": {},
   "source": [
    "# Basic time-series classification machine learning workflow using timegpy\n",
    "\n",
    "## Premise\n",
    "\n",
    "While `timegpy` can be used for scientific discovery and to reveal differences in temporal patterns between groups, a common problem solved by time-series data is out-of-sample classification. Since a time-average feature returns a scalar statistic, `timegpy` can be used to find features which can effectively individually distinguish between classes on some input time-series data $X$, and then train a classification algorithm using the values on the top $N$ performing features on unseen data. This tutorial steps through a very simple example of this workflow.\n",
    "\n",
    "## Import packages"
   ]
  },
  {
   "cell_type": "code",
   "execution_count": 2,
   "id": "24dd5e18",
   "metadata": {},
   "outputs": [],
   "source": [
    "import numpy as np\n",
    "from timegpy.gp import evolve\n",
    "from timegpy.create import create\n",
    "from timegpy.plots import plot_hist\n",
    "from sklearn.linear_model import LogisticRegression\n",
    "from sklearn.metrics import accuracy_score"
   ]
  },
  {
   "cell_type": "markdown",
   "id": "58dfdbeb",
   "metadata": {},
   "source": [
    "## Simulate data\n",
    "\n",
    "For this tutorial, we are aiming to classify Gaussian noise time series from AR(1) process data. We are going to simulate $N=100$ samples from each class, where each sample is $T=100$ time points long. We are going to set an autoregressive coefficient $\\phi=0.7$ which is strong, but not that absurdly strong so as to make the exercise pointless.\n",
    "\n",
    "The reason `timegpy` works well for this example is on $z$-scored data, the feature $\\langle X_{t} X_{t+1} \\rangle$ (represented as a string in `timegpy` as `\"mean(X_t+0 * X_t+1)\"`) is the value of the autocorrelation coefficient at lag 1---which, given our simulated data, we know to be the only distinguishing temporal characteristic between the data. Given this, we should expect to see the values on this feature distributed around $0$ for the noise time series and around $\\phi=0.7$ for the AR(1) time series. This gives us a nice ground truth validation that the algorithm is working.\n",
    "\n",
    "*NOTE: It is highly likely that much more complex time-average features (e.g., `\"mean((((X_t+0 ^ 5) / X_t+8) / ((tan(X_t+2) * (X_t+5 - X_t+4)) + sin(X_t+7))))\"`) achieve good fitness (i.e., performance) in the algorithm. This is the primary reason why using parsimony-adjusted fitness within the algorithm is recommended.*"
   ]
  },
  {
   "cell_type": "code",
   "execution_count": 3,
   "id": "4e2ca751",
   "metadata": {},
   "outputs": [],
   "source": [
    "def generate_ar1_vs_noise(N, T, phi, seed=None):\n",
    "    if seed is not None:\n",
    "        np.random.seed(seed)\n",
    "\n",
    "    # AR(1) samples\n",
    "    ar1_data = np.zeros((N, T))\n",
    "    for i in range(N):\n",
    "        noise = np.random.normal(0, 1, T)\n",
    "        ar1 = np.zeros(T)\n",
    "        ar1[0] = noise[0]\n",
    "        for t in range(1, T):\n",
    "            ar1[t] = phi * ar1[t - 1] + noise[t]\n",
    "        ar1_data[i] = ar1\n",
    "\n",
    "    # Gaussian noise samples\n",
    "    noise_data = np.random.normal(0, 1, (N, T))\n",
    "\n",
    "    # Combine\n",
    "    X = np.vstack([ar1_data, noise_data])\n",
    "\n",
    "    # Labels\n",
    "    y = np.array([1] * N + [0] * N)\n",
    "\n",
    "    return X, y\n",
    "\n",
    "X, y = generate_ar1_vs_noise(N=100, T=100, phi=0.7, seed=123)"
   ]
  },
  {
   "cell_type": "markdown",
   "id": "7833bb13",
   "metadata": {},
   "source": [
    "## Run the genetic programming algorithm\n",
    "\n",
    "Now that we have our data, we can run the core function in `timegpy` which is `evolve`. `evolve` has a very large set of adjustable parameters (see the [documentation](https://timegpy.readthedocs.io/en/latest/Quickstart.html) for all the details), but here we are just going to use mostly the defaults, with the exception of making the maximum feature size a little smaller (i.e., $6$ potential time lag terms as the maximum), the number of generations with no fitness improvement before algorithm termination a little longer, and enabling parallel processing over $5$ processes to speed up computation time. We are also disabling the ability for the algorithm to generate time-average features with unary functions (i.e., $\\sin$, $\\cos$, $\\tan$) since we know they aren't useful here."
   ]
  },
  {
   "cell_type": "code",
   "execution_count": null,
   "id": "7c71ebde",
   "metadata": {},
   "outputs": [],
   "source": [
    "df_all, df_best = evolve(\n",
    "    X, y,\n",
    "    max_lag_terms=6,\n",
    "    n_generation_improve=5,\n",
    "    unary_set=None,\n",
    "    use_parsimony=True,\n",
    "    seed=123,\n",
    "    n_procs=5\n",
    ")"
   ]
  },
  {
   "cell_type": "markdown",
   "id": "45e2e5ab",
   "metadata": {},
   "source": [
    "## Check that the single best feature is as expected\n",
    "\n",
    "Before we go any further, we will quickly check that the best individual feature as determined by parsimony-adjusted fitness is $\\langle X_{t} X_{t+1} \\rangle$. `evolve` returns a data frame of the best feature's information, so we can easily check."
   ]
  },
  {
   "cell_type": "code",
   "execution_count": 8,
   "id": "ccc02228",
   "metadata": {},
   "outputs": [
    {
     "data": {
      "text/html": [
       "<div>\n",
       "<style scoped>\n",
       "    .dataframe tbody tr th:only-of-type {\n",
       "        vertical-align: middle;\n",
       "    }\n",
       "\n",
       "    .dataframe tbody tr th {\n",
       "        vertical-align: top;\n",
       "    }\n",
       "\n",
       "    .dataframe thead th {\n",
       "        text-align: right;\n",
       "    }\n",
       "</style>\n",
       "<table border=\"1\" class=\"dataframe\">\n",
       "  <thead>\n",
       "    <tr style=\"text-align: right;\">\n",
       "      <th></th>\n",
       "      <th>generation</th>\n",
       "      <th>individual</th>\n",
       "      <th>expression</th>\n",
       "      <th>program_size</th>\n",
       "      <th>fitness</th>\n",
       "      <th>fitness_parsimony</th>\n",
       "    </tr>\n",
       "  </thead>\n",
       "  <tbody>\n",
       "    <tr>\n",
       "      <th>1617</th>\n",
       "      <td>1</td>\n",
       "      <td>621</td>\n",
       "      <td>mean((X_t+0 * X_t+1))</td>\n",
       "      <td>3</td>\n",
       "      <td>0.936955</td>\n",
       "      <td>0.914233</td>\n",
       "    </tr>\n",
       "  </tbody>\n",
       "</table>\n",
       "</div>"
      ],
      "text/plain": [
       "      generation  individual             expression  program_size   fitness  \\\n",
       "1617           1         621  mean((X_t+0 * X_t+1))             3  0.936955   \n",
       "\n",
       "      fitness_parsimony  \n",
       "1617           0.914233  "
      ]
     },
     "execution_count": 8,
     "metadata": {},
     "output_type": "execute_result"
    }
   ],
   "source": [
    "df_best"
   ]
  },
  {
   "cell_type": "markdown",
   "id": "d30a695a",
   "metadata": {},
   "source": [
    "We can also use this information to quickly plot the class distributions on this feature using a histogram:"
   ]
  },
  {
   "cell_type": "code",
   "execution_count": 9,
   "id": "87e3bd6f",
   "metadata": {},
   "outputs": [
    {
     "data": {
      "text/plain": [
       "<module 'matplotlib.pyplot' from '/Users/trenthenderson/Documents/Git/timegpy/.venv/lib/python3.10/site-packages/matplotlib/pyplot.py'>"
      ]
     },
     "execution_count": 9,
     "metadata": {},
     "output_type": "execute_result"
    },
    {
     "data": {
      "image/png": "[encoded data removed]",
      "text/plain": [
       "<Figure size 1000x600 with 1 Axes>"
      ]
     },
     "metadata": {},
     "output_type": "display_data"
    }
   ],
   "source": [
    "plot_hist(df_best.iloc[0]['expression'], X, y, z_score=True)"
   ]
  },
  {
   "cell_type": "markdown",
   "id": "c4868fb2",
   "metadata": {},
   "source": [
    "## Find the top $10$ unique time-average features to use going forward\n",
    "\n",
    "For the sake of simplicity in this tutorial, we are going to ignore best practice in selecting features for a machine learning algorithm and just take the top $10$ time-average features to then train a classifier. We can easily do this using `pandas` syntax:"
   ]
  },
  {
   "cell_type": "code",
   "execution_count": 10,
   "id": "6a61155f",
   "metadata": {},
   "outputs": [
    {
     "name": "stdout",
     "output_type": "stream",
     "text": [
      "Top 10 unique expressions:\n",
      "mean((X_t+0 * X_t+1))\n",
      "mean(((X_t+0 * X_t+2) + (((X_t+8 + X_t+3) + X_t+3) * X_t+2)))\n",
      "mean((((X_t+0 * X_t+1) - ((X_t+6 ^ 3) - (X_t+5 * X_t+4))) - (X_t+6 ^ 2)))\n",
      "mean(((X_t+0 - (X_t+5 - X_t+2)) + ((X_t+2 * X_t+1) + X_t+6)))\n",
      "mean((X_t+0 * (((X_t+1 ^ 3) / 0.5815) + (X_t+8 - (X_t+4 * X_t+5)))))\n",
      "mean(((X_t+0 * ((X_t+1 + -0.3407) + X_t+3)) / (X_t+7 / X_t+7)))\n",
      "mean((((X_t+0 + X_t+5) * (0.8896 * (0.7769 - X_t+1))) - X_t+4))\n",
      "mean((((X_t+0 - (X_t+3 - X_t+5)) * X_t+3) - (X_t+7 * 0.7564)))\n",
      "mean(((X_t+0 - (0.0966 - (X_t+6 * X_t+1))) - (X_t+5 * X_t+6)))\n",
      "mean(((X_t+0 * X_t+6) + (X_t+3 * ((X_t+6 * X_t+2) + X_t+2))))\n"
     ]
    }
   ],
   "source": [
    "top_expressions = (\n",
    "    df_all.sort_values(by=\"fitness_parsimony\", ascending=False)\n",
    "         .drop_duplicates(subset=\"expression\")\n",
    "         .head(10)\n",
    "         .expression\n",
    "         .tolist()\n",
    ")\n",
    "\n",
    "print(\"Top 10 unique expressions:\")\n",
    "for expr in top_expressions:\n",
    "    print(expr)"
   ]
  },
  {
   "cell_type": "markdown",
   "id": "56ceb651",
   "metadata": {},
   "source": [
    "## Create training dataset matrix using the time-series data and the top $10$ time-average features\n",
    "\n",
    "What we need to do now is produce 'training data' that can be used to train the classifier. More specifically, we need a matrix of data where each time series is a row and each time-average feature value is in a column. `timegpy` has a function `create` which takes a collection of time-average feature expressions as strings and the time-series data matrix and produces the time series $\\times$ feature matrix:"
   ]
  },
  {
   "cell_type": "code",
   "execution_count": 11,
   "id": "fe02cb3b",
   "metadata": {},
   "outputs": [],
   "source": [
    "X_features = create(top_expressions, X, z_score=True)"
   ]
  },
  {
   "cell_type": "markdown",
   "id": "d92b776b",
   "metadata": {},
   "source": [
    "## Create test set by simulating new data and calculating values on the top $10$ time-average features\n",
    "\n",
    "Now we'll simulate our test set data. We are going to generate more noise and AR(1) data (but with a weaker autoregressive coefficient of $\\phi=0.5$ to make the problem harder) and calculate the feature values for it using `create`."
   ]
  },
  {
   "cell_type": "code",
   "execution_count": 15,
   "id": "e3d539cb",
   "metadata": {},
   "outputs": [],
   "source": [
    "X2, y2 = generate_ar1_vs_noise(N=100, T=100, phi=0.5, seed=42)\n",
    "X2_features = create(top_expressions, X2, z_score=True)"
   ]
  },
  {
   "cell_type": "markdown",
   "id": "5d5739bd",
   "metadata": {},
   "source": [
    "## Fit binary classifier\n",
    "\n",
    "With our train and test data prepared, we can now fit our classification algorithm. For simplicity, we are just going to use logistic regression. We'll first train it on the time-average feature data calculated on `X_features` and then use the model to predict class labels for our unseen data `X2_features`."
   ]
  },
  {
   "cell_type": "code",
   "execution_count": 16,
   "id": "71f5c2dc",
   "metadata": {},
   "outputs": [],
   "source": [
    "clf = LogisticRegression()\n",
    "clf.fit(X_features, y)\n",
    "y2_pred = clf.predict(X2_features)"
   ]
  },
  {
   "cell_type": "markdown",
   "id": "c1396f06",
   "metadata": {},
   "source": [
    "## Calculate classification accuracy\n",
    "\n",
    "We can finally calculate classification accuracy using the class labels of the unseen data `y2` and our model predictions `y2_pred`."
   ]
  },
  {
   "cell_type": "code",
   "execution_count": 17,
   "id": "c57c386d",
   "metadata": {},
   "outputs": [
    {
     "name": "stdout",
     "output_type": "stream",
     "text": [
      "Test set classification accuracy: 0.910\n"
     ]
    }
   ],
   "source": [
    "acc = accuracy_score(y2, y2_pred)\n",
    "print(f\"Test set classification accuracy: {acc:.3f}\")"
   ]
  }
 ],
 "metadata": {
  "kernelspec": {
   "display_name": ".venv",
   "language": "python",
   "name": "python3"
  },
  "language_info": {
   "codemirror_mode": {
    "name": "ipython",
    "version": 3
   },
   "file_extension": ".py",
   "mimetype": "text/x-python",
   "name": "python",
   "nbconvert_exporter": "python",
   "pygments_lexer": "ipython3",
   "version": "3.10.16"
  }
 },
 "nbformat": 4,
 "nbformat_minor": 5
}
